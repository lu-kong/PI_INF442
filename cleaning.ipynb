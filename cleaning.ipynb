{
 "cells": [
  {
   "cell_type": "code",
   "execution_count": 1,
   "metadata": {},
   "outputs": [],
   "source": [
    "from util_cleaning import *"
   ]
  },
  {
   "cell_type": "markdown",
   "metadata": {},
   "source": [
    "## Data Preproprocessing"
   ]
  },
  {
   "cell_type": "markdown",
   "metadata": {},
   "source": [
    "## 1. Power data cleaning"
   ]
  },
  {
   "cell_type": "code",
   "execution_count": 7,
   "metadata": {},
   "outputs": [
    {
     "name": "stderr",
     "output_type": "stream",
     "text": [
      "C:\\Users\\Jiajia\\Documents\\Github\\PI_INF442\\util_cleaning.py:15: RuntimeWarning: invalid value encountered in greater\n",
      "  return np.where(np.abs(z)>threshold)\n"
     ]
    }
   ],
   "source": [
    "# power_2007 = power_clean(2007) \n",
    "power_2008 = power_clean(2008) \n",
    "power_2009 = power_clean(2009) \n",
    "power_2010 = power_clean(2010) "
   ]
  },
  {
   "cell_type": "code",
   "execution_count": null,
   "metadata": {},
   "outputs": [],
   "source": [
    "power_all = pd.concat([power_2007, power_2008, power_2009, power_2010])\n",
    "power_all.isna().sum()"
   ]
  },
  {
   "cell_type": "code",
   "execution_count": 9,
   "metadata": {},
   "outputs": [],
   "source": [
    "power_2007.to_csv('E:/PI_INF442/p1-power-weather/cleaned_data/power_2007.csv',sep = ';',  index = False)\n",
    "power_2008.to_csv('E:/PI_INF442/p1-power-weather/cleaned_data/power_2008.csv',sep = ';',  index = False)\n",
    "power_2009.to_csv('E:/PI_INF442/p1-power-weather/cleaned_data/power_2009.csv',sep = ';',  index = False)\n",
    "power_2010.to_csv('E:/PI_INF442/p1-power-weather/cleaned_data/power_2010.csv',sep = ';',  index = False)\n",
    "power_all.to_csv('E:/PI_INF442/p1-power-weather/cleaned_data/power_all.csv',sep = ';',  index = False)"
   ]
  },
  {
   "cell_type": "code",
   "execution_count": 11,
   "metadata": {},
   "outputs": [
    {
     "data": {
      "text/html": [
       "<div>\n",
       "<style scoped>\n",
       "    .dataframe tbody tr th:only-of-type {\n",
       "        vertical-align: middle;\n",
       "    }\n",
       "\n",
       "    .dataframe tbody tr th {\n",
       "        vertical-align: top;\n",
       "    }\n",
       "\n",
       "    .dataframe thead th {\n",
       "        text-align: right;\n",
       "    }\n",
       "</style>\n",
       "<table border=\"1\" class=\"dataframe\">\n",
       "  <thead>\n",
       "    <tr style=\"text-align: right;\">\n",
       "      <th></th>\n",
       "      <th>date</th>\n",
       "      <th>time</th>\n",
       "      <th>g_active_power</th>\n",
       "      <th>g_reactive_power</th>\n",
       "      <th>voltage</th>\n",
       "      <th>global_intensity</th>\n",
       "      <th>sub_1_kitchen</th>\n",
       "      <th>sub_2_laundry</th>\n",
       "      <th>sub_3_wh_ac</th>\n",
       "    </tr>\n",
       "  </thead>\n",
       "  <tbody>\n",
       "    <tr>\n",
       "      <th>0</th>\n",
       "      <td>1/1/2007</td>\n",
       "      <td>00:00:00</td>\n",
       "      <td>2.580</td>\n",
       "      <td>0.136</td>\n",
       "      <td>241.97</td>\n",
       "      <td>10.6</td>\n",
       "      <td>0.0</td>\n",
       "      <td>0.0</td>\n",
       "      <td>0.0</td>\n",
       "    </tr>\n",
       "    <tr>\n",
       "      <th>1</th>\n",
       "      <td>1/1/2007</td>\n",
       "      <td>00:01:00</td>\n",
       "      <td>2.552</td>\n",
       "      <td>0.100</td>\n",
       "      <td>241.75</td>\n",
       "      <td>10.4</td>\n",
       "      <td>0.0</td>\n",
       "      <td>0.0</td>\n",
       "      <td>0.0</td>\n",
       "    </tr>\n",
       "    <tr>\n",
       "      <th>2</th>\n",
       "      <td>1/1/2007</td>\n",
       "      <td>00:02:00</td>\n",
       "      <td>2.550</td>\n",
       "      <td>0.100</td>\n",
       "      <td>241.64</td>\n",
       "      <td>10.4</td>\n",
       "      <td>0.0</td>\n",
       "      <td>0.0</td>\n",
       "      <td>0.0</td>\n",
       "    </tr>\n",
       "    <tr>\n",
       "      <th>3</th>\n",
       "      <td>1/1/2007</td>\n",
       "      <td>00:03:00</td>\n",
       "      <td>2.550</td>\n",
       "      <td>0.100</td>\n",
       "      <td>241.71</td>\n",
       "      <td>10.4</td>\n",
       "      <td>0.0</td>\n",
       "      <td>0.0</td>\n",
       "      <td>0.0</td>\n",
       "    </tr>\n",
       "    <tr>\n",
       "      <th>4</th>\n",
       "      <td>1/1/2007</td>\n",
       "      <td>00:04:00</td>\n",
       "      <td>2.554</td>\n",
       "      <td>0.100</td>\n",
       "      <td>241.98</td>\n",
       "      <td>10.4</td>\n",
       "      <td>0.0</td>\n",
       "      <td>0.0</td>\n",
       "      <td>0.0</td>\n",
       "    </tr>\n",
       "  </tbody>\n",
       "</table>\n",
       "</div>"
      ],
      "text/plain": [
       "       date      time  g_active_power  g_reactive_power  voltage  \\\n",
       "0  1/1/2007  00:00:00           2.580             0.136   241.97   \n",
       "1  1/1/2007  00:01:00           2.552             0.100   241.75   \n",
       "2  1/1/2007  00:02:00           2.550             0.100   241.64   \n",
       "3  1/1/2007  00:03:00           2.550             0.100   241.71   \n",
       "4  1/1/2007  00:04:00           2.554             0.100   241.98   \n",
       "\n",
       "   global_intensity  sub_1_kitchen  sub_2_laundry  sub_3_wh_ac  \n",
       "0              10.6            0.0            0.0          0.0  \n",
       "1              10.4            0.0            0.0          0.0  \n",
       "2              10.4            0.0            0.0          0.0  \n",
       "3              10.4            0.0            0.0          0.0  \n",
       "4              10.4            0.0            0.0          0.0  "
      ]
     },
     "execution_count": 11,
     "metadata": {},
     "output_type": "execute_result"
    }
   ],
   "source": [
    "power_all.head()"
   ]
  },
  {
   "cell_type": "markdown",
   "metadata": {},
   "source": [
    "## 2. Weather data cleaning"
   ]
  },
  {
   "cell_type": "code",
   "execution_count": 2,
   "metadata": {},
   "outputs": [
    {
     "name": "stderr",
     "output_type": "stream",
     "text": [
      "C:\\ProgramData\\Anaconda3\\lib\\site-packages\\scipy\\stats\\stats.py:2419: RuntimeWarning: invalid value encountered in true_divide\n",
      "  return (a - mns) / sstd\n",
      "C:\\Users\\Jiajia\\Documents\\Github\\PI_INF442\\util_cleaning.py:15: RuntimeWarning: invalid value encountered in greater\n",
      "  return np.where(np.abs(z)>threshold)\n"
     ]
    }
   ],
   "source": [
    "df = weather_clean()"
   ]
  },
  {
   "cell_type": "code",
   "execution_count": 13,
   "metadata": {},
   "outputs": [
    {
     "data": {
      "text/html": [
       "<div>\n",
       "<style scoped>\n",
       "    .dataframe tbody tr th:only-of-type {\n",
       "        vertical-align: middle;\n",
       "    }\n",
       "\n",
       "    .dataframe tbody tr th {\n",
       "        vertical-align: top;\n",
       "    }\n",
       "\n",
       "    .dataframe thead th {\n",
       "        text-align: right;\n",
       "    }\n",
       "</style>\n",
       "<table border=\"1\" class=\"dataframe\">\n",
       "  <thead>\n",
       "    <tr style=\"text-align: right;\">\n",
       "      <th></th>\n",
       "      <th>date</th>\n",
       "      <th>time</th>\n",
       "      <th>numer_sta</th>\n",
       "      <th>pmer</th>\n",
       "      <th>tend</th>\n",
       "      <th>dd</th>\n",
       "      <th>ff</th>\n",
       "      <th>t</th>\n",
       "      <th>td</th>\n",
       "      <th>u</th>\n",
       "      <th>...</th>\n",
       "      <th>hbas</th>\n",
       "      <th>pres</th>\n",
       "      <th>rafper</th>\n",
       "      <th>per</th>\n",
       "      <th>ssfrai</th>\n",
       "      <th>perssfrai</th>\n",
       "      <th>rr1</th>\n",
       "      <th>rr3</th>\n",
       "      <th>nnuage1</th>\n",
       "      <th>hnuage1</th>\n",
       "    </tr>\n",
       "  </thead>\n",
       "  <tbody>\n",
       "    <tr>\n",
       "      <th>0</th>\n",
       "      <td>2007-01-01</td>\n",
       "      <td>00:00:00</td>\n",
       "      <td>7149</td>\n",
       "      <td>101960.0</td>\n",
       "      <td>-70.0</td>\n",
       "      <td>220.0</td>\n",
       "      <td>9.8</td>\n",
       "      <td>286.65</td>\n",
       "      <td>284.85</td>\n",
       "      <td>89.0</td>\n",
       "      <td>...</td>\n",
       "      <td>450.0</td>\n",
       "      <td>100880.0</td>\n",
       "      <td>13.9</td>\n",
       "      <td>-10.0</td>\n",
       "      <td>0.0</td>\n",
       "      <td>-60.0</td>\n",
       "      <td>0.0</td>\n",
       "      <td>1.0</td>\n",
       "      <td>2.0</td>\n",
       "      <td>780.0</td>\n",
       "    </tr>\n",
       "    <tr>\n",
       "      <th>1</th>\n",
       "      <td>2007-01-01</td>\n",
       "      <td>03:00:00</td>\n",
       "      <td>7149</td>\n",
       "      <td>102010.0</td>\n",
       "      <td>40.0</td>\n",
       "      <td>240.0</td>\n",
       "      <td>7.2</td>\n",
       "      <td>285.65</td>\n",
       "      <td>282.25</td>\n",
       "      <td>80.0</td>\n",
       "      <td>...</td>\n",
       "      <td>1250.0</td>\n",
       "      <td>100920.0</td>\n",
       "      <td>13.9</td>\n",
       "      <td>-10.0</td>\n",
       "      <td>0.0</td>\n",
       "      <td>-60.0</td>\n",
       "      <td>0.0</td>\n",
       "      <td>0.2</td>\n",
       "      <td>2.0</td>\n",
       "      <td>780.0</td>\n",
       "    </tr>\n",
       "    <tr>\n",
       "      <th>2</th>\n",
       "      <td>2007-01-01</td>\n",
       "      <td>06:00:00</td>\n",
       "      <td>7149</td>\n",
       "      <td>102040.0</td>\n",
       "      <td>30.0</td>\n",
       "      <td>230.0</td>\n",
       "      <td>8.7</td>\n",
       "      <td>283.65</td>\n",
       "      <td>279.75</td>\n",
       "      <td>77.0</td>\n",
       "      <td>...</td>\n",
       "      <td>800.0</td>\n",
       "      <td>100950.0</td>\n",
       "      <td>14.9</td>\n",
       "      <td>-10.0</td>\n",
       "      <td>0.0</td>\n",
       "      <td>-60.0</td>\n",
       "      <td>0.0</td>\n",
       "      <td>0.0</td>\n",
       "      <td>2.0</td>\n",
       "      <td>780.0</td>\n",
       "    </tr>\n",
       "    <tr>\n",
       "      <th>3</th>\n",
       "      <td>2007-01-01</td>\n",
       "      <td>09:00:00</td>\n",
       "      <td>7149</td>\n",
       "      <td>102240.0</td>\n",
       "      <td>190.0</td>\n",
       "      <td>250.0</td>\n",
       "      <td>9.8</td>\n",
       "      <td>282.05</td>\n",
       "      <td>278.05</td>\n",
       "      <td>76.0</td>\n",
       "      <td>...</td>\n",
       "      <td>450.0</td>\n",
       "      <td>101140.0</td>\n",
       "      <td>14.4</td>\n",
       "      <td>-10.0</td>\n",
       "      <td>0.0</td>\n",
       "      <td>-30.0</td>\n",
       "      <td>0.4</td>\n",
       "      <td>0.4</td>\n",
       "      <td>2.0</td>\n",
       "      <td>450.0</td>\n",
       "    </tr>\n",
       "    <tr>\n",
       "      <th>4</th>\n",
       "      <td>2007-01-01</td>\n",
       "      <td>12:00:00</td>\n",
       "      <td>7149</td>\n",
       "      <td>102450.0</td>\n",
       "      <td>210.0</td>\n",
       "      <td>270.0</td>\n",
       "      <td>8.7</td>\n",
       "      <td>283.65</td>\n",
       "      <td>276.65</td>\n",
       "      <td>62.0</td>\n",
       "      <td>...</td>\n",
       "      <td>800.0</td>\n",
       "      <td>101350.0</td>\n",
       "      <td>13.9</td>\n",
       "      <td>-10.0</td>\n",
       "      <td>0.0</td>\n",
       "      <td>-60.0</td>\n",
       "      <td>0.0</td>\n",
       "      <td>0.0</td>\n",
       "      <td>1.0</td>\n",
       "      <td>840.0</td>\n",
       "    </tr>\n",
       "  </tbody>\n",
       "</table>\n",
       "<p>5 rows × 23 columns</p>\n",
       "</div>"
      ],
      "text/plain": [
       "         date      time  numer_sta      pmer   tend     dd   ff       t  \\\n",
       "0  2007-01-01  00:00:00       7149  101960.0  -70.0  220.0  9.8  286.65   \n",
       "1  2007-01-01  03:00:00       7149  102010.0   40.0  240.0  7.2  285.65   \n",
       "2  2007-01-01  06:00:00       7149  102040.0   30.0  230.0  8.7  283.65   \n",
       "3  2007-01-01  09:00:00       7149  102240.0  190.0  250.0  9.8  282.05   \n",
       "4  2007-01-01  12:00:00       7149  102450.0  210.0  270.0  8.7  283.65   \n",
       "\n",
       "       td     u  ...    hbas      pres  rafper   per  ssfrai  perssfrai  rr1  \\\n",
       "0  284.85  89.0  ...   450.0  100880.0    13.9 -10.0     0.0      -60.0  0.0   \n",
       "1  282.25  80.0  ...  1250.0  100920.0    13.9 -10.0     0.0      -60.0  0.0   \n",
       "2  279.75  77.0  ...   800.0  100950.0    14.9 -10.0     0.0      -60.0  0.0   \n",
       "3  278.05  76.0  ...   450.0  101140.0    14.4 -10.0     0.0      -30.0  0.4   \n",
       "4  276.65  62.0  ...   800.0  101350.0    13.9 -10.0     0.0      -60.0  0.0   \n",
       "\n",
       "   rr3  nnuage1  hnuage1  \n",
       "0  1.0      2.0    780.0  \n",
       "1  0.2      2.0    780.0  \n",
       "2  0.0      2.0    780.0  \n",
       "3  0.4      2.0    450.0  \n",
       "4  0.0      1.0    840.0  \n",
       "\n",
       "[5 rows x 23 columns]"
      ]
     },
     "execution_count": 13,
     "metadata": {},
     "output_type": "execute_result"
    }
   ],
   "source": [
    "df.isna().sum()\n",
    "df.head()"
   ]
  },
  {
   "cell_type": "code",
   "execution_count": 14,
   "metadata": {},
   "outputs": [],
   "source": [
    "## Data ouput to a .csv named 'orly_mq' with missing values\n",
    "df.to_csv('E:/PI_INF442/p1-power-weather/cleaned_data/cleaned_weather.csv',sep = ';',  index = False)"
   ]
  },
  {
   "cell_type": "code",
   "execution_count": null,
   "metadata": {},
   "outputs": [],
   "source": [
    "### discard those attributes with too many missing values(> 2000)\n",
    "for col in df_weather.columns[2:]:\n",
    "    if(df_weather[col].isin(['mq', 'NaN']).sum()>2000):\n",
    "        df_weather.drop(columns = col, inplace = True)\n",
    "df_weather.to_csv('E:/PI_INF442/p1-power-weather/cleaned_data/orly_2000.csv',sep = ';',  index = False)"
   ]
  },
  {
   "cell_type": "code",
   "execution_count": null,
   "metadata": {},
   "outputs": [],
   "source": [
    "### discard those attributes with too many missing values(> 1000)\n",
    "for col in df_weather.columns[2:]:\n",
    "    if(df_weather[col].isin(['mq', 'NaN']).sum()>1000):\n",
    "        df_weather.drop(columns = col, inplace = True)\n",
    "df_weather.to_csv('E:/PI_INF442/p1-power-weather/cleaned_data/orly_1000.csv',sep = ';',  index = False)"
   ]
  },
  {
   "cell_type": "code",
   "execution_count": null,
   "metadata": {},
   "outputs": [],
   "source": []
  }
 ],
 "metadata": {
  "kernelspec": {
   "display_name": "Python 3",
   "language": "python",
   "name": "python3"
  },
  "language_info": {
   "codemirror_mode": {
    "name": "ipython",
    "version": 3
   },
   "file_extension": ".py",
   "mimetype": "text/x-python",
   "name": "python",
   "nbconvert_exporter": "python",
   "pygments_lexer": "ipython3",
   "version": "3.7.6"
  }
 },
 "nbformat": 4,
 "nbformat_minor": 4
}
