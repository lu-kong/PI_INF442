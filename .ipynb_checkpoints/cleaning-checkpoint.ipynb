{
 "cells": [
  {
   "cell_type": "code",
   "execution_count": 1,
   "metadata": {},
   "outputs": [],
   "source": [
    "from util_cleaning import *"
   ]
  },
  {
   "cell_type": "markdown",
   "metadata": {},
   "source": [
    "## Data Preproprocessing"
   ]
  },
  {
   "cell_type": "markdown",
   "metadata": {},
   "source": [
    "## 1. Power data cleaning"
   ]
  },
  {
   "cell_type": "code",
   "execution_count": null,
   "metadata": {},
   "outputs": [],
   "source": [
    "power_2007 = power_clean(2007) \n",
    "power_2008 = power_clean(2008) \n",
    "power_2009 = power_clean(2009) \n",
    "power_2010 = power_clean(2010) "
   ]
  },
  {
   "cell_type": "code",
   "execution_count": null,
   "metadata": {},
   "outputs": [],
   "source": [
    "power_2007.to_csv('E:/PI_INF442/p1-power-weather/cleaned_data/power_2007.csv',sep = ';',  index = False)\n",
    "power_2008.to_csv('E:/PI_INF442/p1-power-weather/cleaned_data/power_2008.csv',sep = ';',  index = False)\n",
    "power_2009.to_csv('E:/PI_INF442/p1-power-weather/cleaned_data/power_2009.csv',sep = ';',  index = False)\n",
    "power_2010.to_csv('E:/PI_INF442/p1-power-weather/cleaned_data/power_2010.csv',sep = ';',  index = False)"
   ]
  },
  {
   "cell_type": "code",
   "execution_count": null,
   "metadata": {},
   "outputs": [],
   "source": [
    "power_2008.head()"
   ]
  },
  {
   "cell_type": "markdown",
   "metadata": {},
   "source": [
    "## 2. Weather data cleaning"
   ]
  },
  {
   "cell_type": "code",
   "execution_count": 2,
   "metadata": {},
   "outputs": [
    {
     "name": "stderr",
     "output_type": "stream",
     "text": [
      "C:\\ProgramData\\Anaconda3\\lib\\site-packages\\scipy\\stats\\stats.py:2419: RuntimeWarning: invalid value encountered in true_divide\n",
      "  return (a - mns) / sstd\n",
      "C:\\Users\\Jiajia\\Documents\\Github\\PI_INF442\\util_cleaning.py:15: RuntimeWarning: invalid value encountered in greater\n",
      "  return np.where(np.abs(z)>threshold)\n"
     ]
    }
   ],
   "source": [
    "df = weather_clean()"
   ]
  },
  {
   "cell_type": "code",
   "execution_count": null,
   "metadata": {},
   "outputs": [],
   "source": [
    "## Data ouput to a .csv named 'orly_mq' with missing values\n",
    "df_weather.to_csv('E:/PI_INF442/p1-power-weather/cleaned_data/orly_original.csv',sep = ';',  index = False)"
   ]
  },
  {
   "cell_type": "code",
   "execution_count": null,
   "metadata": {},
   "outputs": [],
   "source": [
    "### discard those attributes with too many missing values(> 2000)\n",
    "for col in df_weather.columns[2:]:\n",
    "    if(df_weather[col].isin(['mq', 'NaN']).sum()>2000):\n",
    "        df_weather.drop(columns = col, inplace = True)\n",
    "df_weather.to_csv('E:/PI_INF442/p1-power-weather/cleaned_data/orly_2000.csv',sep = ';',  index = False)"
   ]
  },
  {
   "cell_type": "code",
   "execution_count": null,
   "metadata": {},
   "outputs": [],
   "source": [
    "### discard those attributes with too many missing values(> 1000)\n",
    "for col in df_weather.columns[2:]:\n",
    "    if(df_weather[col].isin(['mq', 'NaN']).sum()>1000):\n",
    "        df_weather.drop(columns = col, inplace = True)\n",
    "df_weather.to_csv('E:/PI_INF442/p1-power-weather/cleaned_data/orly_1000.csv',sep = ';',  index = False)"
   ]
  },
  {
   "cell_type": "code",
   "execution_count": null,
   "metadata": {},
   "outputs": [],
   "source": []
  }
 ],
 "metadata": {
  "kernelspec": {
   "display_name": "Python 3",
   "language": "python",
   "name": "python3"
  },
  "language_info": {
   "codemirror_mode": {
    "name": "ipython",
    "version": 3
   },
   "file_extension": ".py",
   "mimetype": "text/x-python",
   "name": "python",
   "nbconvert_exporter": "python",
   "pygments_lexer": "ipython3",
   "version": "3.7.6"
  }
 },
 "nbformat": 4,
 "nbformat_minor": 4
}
