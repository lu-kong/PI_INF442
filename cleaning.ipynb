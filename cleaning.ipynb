{
 "cells": [
  {
   "cell_type": "code",
   "execution_count": 1,
   "metadata": {},
   "outputs": [],
   "source": [
    "from util_cleaning import *"
   ]
  },
  {
   "cell_type": "markdown",
   "metadata": {},
   "source": [
    "## Data Preproprocessing"
   ]
  },
  {
   "cell_type": "markdown",
   "metadata": {},
   "source": [
    "## 1. Power data cleaning"
   ]
  },
  {
   "cell_type": "code",
   "execution_count": 2,
   "metadata": {},
   "outputs": [
    {
     "name": "stderr",
     "output_type": "stream",
     "text": [
      "C:\\Users\\Jiajia\\Documents\\Github\\PI_INF442\\util_cleaning.py:15: RuntimeWarning: invalid value encountered in greater\n",
      "  return np.where(np.abs(z)>threshold)\n"
     ]
    }
   ],
   "source": [
    "power_2007 = power_clean(2007) \n",
    "power_2008 = power_clean(2008) \n",
    "power_2009 = power_clean(2009) \n",
    "power_2010 = power_clean(2010) "
   ]
  },
  {
   "cell_type": "code",
   "execution_count": 3,
   "metadata": {},
   "outputs": [],
   "source": [
    "power_2007.to_csv('E:/PI_INF442/p1-power-weather/cleaned_data/power_2007.csv',sep = ';',  index = False)\n",
    "power_2008.to_csv('E:/PI_INF442/p1-power-weather/cleaned_data/power_2008.csv',sep = ';',  index = False)\n",
    "power_2009.to_csv('E:/PI_INF442/p1-power-weather/cleaned_data/power_2009.csv',sep = ';',  index = False)\n",
    "power_2010.to_csv('E:/PI_INF442/p1-power-weather/cleaned_data/power_2010.csv',sep = ';',  index = False)"
   ]
  },
  {
   "cell_type": "code",
   "execution_count": 4,
   "metadata": {},
   "outputs": [
    {
     "data": {
      "text/html": [
       "<div>\n",
       "<style scoped>\n",
       "    .dataframe tbody tr th:only-of-type {\n",
       "        vertical-align: middle;\n",
       "    }\n",
       "\n",
       "    .dataframe tbody tr th {\n",
       "        vertical-align: top;\n",
       "    }\n",
       "\n",
       "    .dataframe thead th {\n",
       "        text-align: right;\n",
       "    }\n",
       "</style>\n",
       "<table border=\"1\" class=\"dataframe\">\n",
       "  <thead>\n",
       "    <tr style=\"text-align: right;\">\n",
       "      <th></th>\n",
       "      <th>date</th>\n",
       "      <th>time</th>\n",
       "      <th>g_active_power</th>\n",
       "      <th>g_reactive_power</th>\n",
       "      <th>voltage</th>\n",
       "      <th>global_intensity</th>\n",
       "      <th>sub_1_kitchen</th>\n",
       "      <th>sub_2_laundry</th>\n",
       "      <th>sub_3_wh_ac</th>\n",
       "    </tr>\n",
       "  </thead>\n",
       "  <tbody>\n",
       "    <tr>\n",
       "      <th>0</th>\n",
       "      <td>1/1/2008</td>\n",
       "      <td>00:00:00</td>\n",
       "      <td>1.620</td>\n",
       "      <td>0.070</td>\n",
       "      <td>241.25</td>\n",
       "      <td>6.6</td>\n",
       "      <td>0.0</td>\n",
       "      <td>0.0</td>\n",
       "      <td>18.0</td>\n",
       "    </tr>\n",
       "    <tr>\n",
       "      <th>1</th>\n",
       "      <td>1/1/2008</td>\n",
       "      <td>00:01:00</td>\n",
       "      <td>1.626</td>\n",
       "      <td>0.072</td>\n",
       "      <td>241.74</td>\n",
       "      <td>6.6</td>\n",
       "      <td>0.0</td>\n",
       "      <td>0.0</td>\n",
       "      <td>18.0</td>\n",
       "    </tr>\n",
       "    <tr>\n",
       "      <th>2</th>\n",
       "      <td>1/1/2008</td>\n",
       "      <td>00:02:00</td>\n",
       "      <td>1.622</td>\n",
       "      <td>0.072</td>\n",
       "      <td>241.52</td>\n",
       "      <td>6.6</td>\n",
       "      <td>0.0</td>\n",
       "      <td>0.0</td>\n",
       "      <td>18.0</td>\n",
       "    </tr>\n",
       "    <tr>\n",
       "      <th>3</th>\n",
       "      <td>1/1/2008</td>\n",
       "      <td>00:03:00</td>\n",
       "      <td>1.612</td>\n",
       "      <td>0.070</td>\n",
       "      <td>240.82</td>\n",
       "      <td>6.6</td>\n",
       "      <td>0.0</td>\n",
       "      <td>0.0</td>\n",
       "      <td>18.0</td>\n",
       "    </tr>\n",
       "    <tr>\n",
       "      <th>4</th>\n",
       "      <td>1/1/2008</td>\n",
       "      <td>00:04:00</td>\n",
       "      <td>1.612</td>\n",
       "      <td>0.070</td>\n",
       "      <td>240.80</td>\n",
       "      <td>6.6</td>\n",
       "      <td>0.0</td>\n",
       "      <td>0.0</td>\n",
       "      <td>18.0</td>\n",
       "    </tr>\n",
       "  </tbody>\n",
       "</table>\n",
       "</div>"
      ],
      "text/plain": [
       "       date      time  g_active_power  g_reactive_power  voltage  \\\n",
       "0  1/1/2008  00:00:00           1.620             0.070   241.25   \n",
       "1  1/1/2008  00:01:00           1.626             0.072   241.74   \n",
       "2  1/1/2008  00:02:00           1.622             0.072   241.52   \n",
       "3  1/1/2008  00:03:00           1.612             0.070   240.82   \n",
       "4  1/1/2008  00:04:00           1.612             0.070   240.80   \n",
       "\n",
       "   global_intensity  sub_1_kitchen  sub_2_laundry  sub_3_wh_ac  \n",
       "0               6.6            0.0            0.0         18.0  \n",
       "1               6.6            0.0            0.0         18.0  \n",
       "2               6.6            0.0            0.0         18.0  \n",
       "3               6.6            0.0            0.0         18.0  \n",
       "4               6.6            0.0            0.0         18.0  "
      ]
     },
     "execution_count": 4,
     "metadata": {},
     "output_type": "execute_result"
    }
   ],
   "source": [
    "power_2008.head()"
   ]
  },
  {
   "cell_type": "markdown",
   "metadata": {},
   "source": [
    "## 2. Weather data cleaning"
   ]
  },
  {
   "cell_type": "code",
   "execution_count": null,
   "metadata": {},
   "outputs": [],
   "source": [
    "df_weather = abstract_data()"
   ]
  },
  {
   "cell_type": "code",
   "execution_count": null,
   "metadata": {},
   "outputs": [],
   "source": [
    "df_weather.head(10)"
   ]
  },
  {
   "cell_type": "code",
   "execution_count": null,
   "metadata": {},
   "outputs": [],
   "source": [
    "## Data ouput to a .csv named 'orly_mq' with missing values\n",
    "df_weather.to_csv('E:/PI_INF442/p1-power-weather/cleaned_data/orly_original.csv',sep = ';',  index = False)"
   ]
  },
  {
   "cell_type": "code",
   "execution_count": null,
   "metadata": {},
   "outputs": [],
   "source": [
    "df_weather.describe() # 11656 records in total"
   ]
  },
  {
   "cell_type": "code",
   "execution_count": null,
   "metadata": {},
   "outputs": [],
   "source": [
    "## There are We discard those attributes with too many missing values(> 5000) and other useless attibutes\n",
    "for col in df_weather.columns[2:]:\n",
    "    if(df_weather[col].isin(['mq', 'NaN']).sum()>5000):\n",
    "        df_weather.drop(columns = col, inplace = True)\n",
    "df_weather.to_csv('E:/PI_INF442/p1-power-weather/cleaned_data/orly_5000.csv',sep = ';',  index = False)"
   ]
  },
  {
   "cell_type": "code",
   "execution_count": null,
   "metadata": {},
   "outputs": [],
   "source": [
    "df_weather.head(10)"
   ]
  },
  {
   "cell_type": "code",
   "execution_count": null,
   "metadata": {},
   "outputs": [],
   "source": [
    "### discard those attributes with too many missing values(> 2000)\n",
    "for col in df_weather.columns[2:]:\n",
    "    if(df_weather[col].isin(['mq', 'NaN']).sum()>2000):\n",
    "        df_weather.drop(columns = col, inplace = True)\n",
    "df_weather.to_csv('E:/PI_INF442/p1-power-weather/cleaned_data/orly_2000.csv',sep = ';',  index = False)"
   ]
  },
  {
   "cell_type": "code",
   "execution_count": null,
   "metadata": {},
   "outputs": [],
   "source": [
    "### discard those attributes with too many missing values(> 1000)\n",
    "for col in df_weather.columns[2:]:\n",
    "    if(df_weather[col].isin(['mq', 'NaN']).sum()>1000):\n",
    "        df_weather.drop(columns = col, inplace = True)\n",
    "df_weather.to_csv('E:/PI_INF442/p1-power-weather/cleaned_data/orly_1000.csv',sep = ';',  index = False)"
   ]
  },
  {
   "cell_type": "code",
   "execution_count": null,
   "metadata": {},
   "outputs": [],
   "source": [
    "for col in df_weather.columns[2:]:\n",
    "    print(df_weather[col].isin(['mq', 'NaN']).sum())"
   ]
  },
  {
   "cell_type": "code",
   "execution_count": null,
   "metadata": {},
   "outputs": [],
   "source": []
  }
 ],
 "metadata": {
  "kernelspec": {
   "display_name": "Python 3",
   "language": "python",
   "name": "python3"
  },
  "language_info": {
   "codemirror_mode": {
    "name": "ipython",
    "version": 3
   },
   "file_extension": ".py",
   "mimetype": "text/x-python",
   "name": "python",
   "nbconvert_exporter": "python",
   "pygments_lexer": "ipython3",
   "version": "3.7.6"
  }
 },
 "nbformat": 4,
 "nbformat_minor": 4
}
